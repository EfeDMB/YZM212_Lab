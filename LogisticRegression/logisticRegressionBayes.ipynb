{
 "cells": [
  {
   "cell_type": "code",
   "execution_count": 1,
   "id": "88e8f9a5-9ea1-45a6-8c2d-32c7ce49534e",
   "metadata": {},
   "outputs": [],
   "source": [
    "import numpy as np\n",
    "import pandas as pd\n",
    "import matplotlib.pyplot as plt\n",
    "from sklearn.model_selection import train_test_split\n",
    "from sklearn.metrics import confusion_matrix, accuracy_score, classification_report\n",
    "from sklearn.preprocessing import StandardScaler\n",
    "import time"
   ]
  },
  {
   "cell_type": "code",
   "execution_count": 2,
   "id": "6409cfa0-fd72-4127-b57b-df2f76cf3345",
   "metadata": {},
   "outputs": [],
   "source": [
    "class LogisticRegressionGD:\n",
    "    def __init__(self, learning_rate=0.001, n_steps=10000):\n",
    "        self.learning_rate = learning_rate\n",
    "        self.n_steps = n_steps\n",
    "        self.W = None\n",
    "    \n",
    "    def _sigmoid(self, Z):\n",
    "        return 1 / (1 + np.exp(-Z))\n",
    "    \n",
    "    def fit(self, X, y):\n",
    "        m, n = X.shape\n",
    "        self.W = np.zeros((n, 1))\n",
    "        \n",
    "        for i in range(self.n_steps):\n",
    "            Z = np.dot(X, self.W)\n",
    "            y_pred = self._sigmoid(Z)\n",
    "            gradient = np.dot(X.T , y_pred - y) / m \n",
    "            self.W -= self.learning_rate * gradient\n",
    "        \n",
    "    def predict(self, X):\n",
    "        probabilities = self._sigmoid(np.dot(X, self.W))\n",
    "        return (probabilities >= 0.5).astype(int) "
   ]
  },
  {
   "cell_type": "code",
   "execution_count": 3,
   "id": "66736461-4425-4002-ab76-dcf3f7888fbc",
   "metadata": {},
   "outputs": [
    {
     "data": {
      "text/html": [
       "<div>\n",
       "<style scoped>\n",
       "    .dataframe tbody tr th:only-of-type {\n",
       "        vertical-align: middle;\n",
       "    }\n",
       "\n",
       "    .dataframe tbody tr th {\n",
       "        vertical-align: top;\n",
       "    }\n",
       "\n",
       "    .dataframe thead th {\n",
       "        text-align: right;\n",
       "    }\n",
       "</style>\n",
       "<table border=\"1\" class=\"dataframe\">\n",
       "  <thead>\n",
       "    <tr style=\"text-align: right;\">\n",
       "      <th></th>\n",
       "      <th>Age</th>\n",
       "      <th>Income</th>\n",
       "      <th>LoanAmount</th>\n",
       "      <th>CreditScore</th>\n",
       "      <th>MonthsEmployed</th>\n",
       "      <th>NumCreditLines</th>\n",
       "      <th>InterestRate</th>\n",
       "      <th>LoanTerm</th>\n",
       "      <th>DTIRatio</th>\n",
       "      <th>Default</th>\n",
       "    </tr>\n",
       "  </thead>\n",
       "  <tbody>\n",
       "    <tr>\n",
       "      <th>0</th>\n",
       "      <td>55</td>\n",
       "      <td>112656</td>\n",
       "      <td>92393</td>\n",
       "      <td>581</td>\n",
       "      <td>113</td>\n",
       "      <td>2</td>\n",
       "      <td>23.54</td>\n",
       "      <td>36</td>\n",
       "      <td>0.15</td>\n",
       "      <td>0</td>\n",
       "    </tr>\n",
       "    <tr>\n",
       "      <th>1</th>\n",
       "      <td>56</td>\n",
       "      <td>91569</td>\n",
       "      <td>131575</td>\n",
       "      <td>641</td>\n",
       "      <td>54</td>\n",
       "      <td>1</td>\n",
       "      <td>15.19</td>\n",
       "      <td>12</td>\n",
       "      <td>0.43</td>\n",
       "      <td>0</td>\n",
       "    </tr>\n",
       "    <tr>\n",
       "      <th>2</th>\n",
       "      <td>26</td>\n",
       "      <td>78169</td>\n",
       "      <td>75417</td>\n",
       "      <td>569</td>\n",
       "      <td>105</td>\n",
       "      <td>3</td>\n",
       "      <td>18.02</td>\n",
       "      <td>12</td>\n",
       "      <td>0.29</td>\n",
       "      <td>0</td>\n",
       "    </tr>\n",
       "    <tr>\n",
       "      <th>3</th>\n",
       "      <td>26</td>\n",
       "      <td>63033</td>\n",
       "      <td>10804</td>\n",
       "      <td>326</td>\n",
       "      <td>118</td>\n",
       "      <td>1</td>\n",
       "      <td>14.71</td>\n",
       "      <td>24</td>\n",
       "      <td>0.41</td>\n",
       "      <td>0</td>\n",
       "    </tr>\n",
       "    <tr>\n",
       "      <th>4</th>\n",
       "      <td>24</td>\n",
       "      <td>29665</td>\n",
       "      <td>21182</td>\n",
       "      <td>662</td>\n",
       "      <td>102</td>\n",
       "      <td>3</td>\n",
       "      <td>15.02</td>\n",
       "      <td>60</td>\n",
       "      <td>0.69</td>\n",
       "      <td>0</td>\n",
       "    </tr>\n",
       "  </tbody>\n",
       "</table>\n",
       "</div>"
      ],
      "text/plain": [
       "   Age  Income  LoanAmount  CreditScore  MonthsEmployed  NumCreditLines  \\\n",
       "0   55  112656       92393          581             113               2   \n",
       "1   56   91569      131575          641              54               1   \n",
       "2   26   78169       75417          569             105               3   \n",
       "3   26   63033       10804          326             118               1   \n",
       "4   24   29665       21182          662             102               3   \n",
       "\n",
       "   InterestRate  LoanTerm  DTIRatio  Default  \n",
       "0         23.54        36      0.15        0  \n",
       "1         15.19        12      0.43        0  \n",
       "2         18.02        12      0.29        0  \n",
       "3         14.71        24      0.41        0  \n",
       "4         15.02        60      0.69        0  "
      ]
     },
     "execution_count": 3,
     "metadata": {},
     "output_type": "execute_result"
    }
   ],
   "source": [
    "df = pd.read_csv(\"cleaned_data.csv\")\n",
    "df.head()"
   ]
  },
  {
   "cell_type": "code",
   "execution_count": 4,
   "id": "d67e0f30-653f-4228-95cf-9727adfe40ee",
   "metadata": {},
   "outputs": [
    {
     "data": {
      "text/plain": [
       "(25535, 10)"
      ]
     },
     "execution_count": 4,
     "metadata": {},
     "output_type": "execute_result"
    }
   ],
   "source": [
    "df.shape"
   ]
  },
  {
   "cell_type": "code",
   "execution_count": 5,
   "id": "9311b88e-da48-45ee-98ec-f92ccc7ad564",
   "metadata": {},
   "outputs": [
    {
     "name": "stdout",
     "output_type": "stream",
     "text": [
      "Series([], dtype: int64)\n"
     ]
    }
   ],
   "source": [
    "missing_values = df.isnull().sum()\n",
    "print(missing_values[missing_values > 0])"
   ]
  },
  {
   "cell_type": "code",
   "execution_count": 6,
   "id": "1bd10681-6e1d-4919-a7c3-5c1b43bda29a",
   "metadata": {},
   "outputs": [
    {
     "data": {
      "text/plain": [
       "(20428, 1)"
      ]
     },
     "execution_count": 6,
     "metadata": {},
     "output_type": "execute_result"
    }
   ],
   "source": [
    "X = df.drop(columns = [\"Default\"]).values\n",
    "y = df[\"Default\"].values\n",
    "X_train, X_test, y_train, y_test = train_test_split(X, y, test_size = 0.2 , random_state = 42, stratify = y)\n",
    "y_train = y_train.reshape(-1, 1)\n",
    "y_train.shape"
   ]
  },
  {
   "cell_type": "code",
   "execution_count": 7,
   "id": "8bd98fcc-8d8d-4f3e-9a8b-9e9de2ecfe89",
   "metadata": {},
   "outputs": [],
   "source": [
    "scaler = StandardScaler()\n",
    "X_train = scaler.fit_transform(X_train)\n",
    "X_test = scaler.transform(X_test)"
   ]
  },
  {
   "cell_type": "code",
   "execution_count": 8,
   "id": "2bf54cfe-ab9a-44ab-b48b-84bdb7d46a76",
   "metadata": {},
   "outputs": [],
   "source": [
    "model = LogisticRegressionGD()\n",
    "\n",
    "start = time.perf_counter()  # Eğitim zamanı ölçümü başlatılıyor\n",
    "model.fit(X_train, y_train)\n",
    "train_time = time.perf_counter() - start  # Eğitim süresi hesaplanıyor"
   ]
  },
  {
   "cell_type": "code",
   "execution_count": 9,
   "id": "4c171af9-6f6b-46f7-af8b-ae9ed6eef01d",
   "metadata": {},
   "outputs": [],
   "source": [
    "start = time.perf_counter()  # Test zamanı ölçümü başlatılıyor\n",
    "y_pred = model.predict(X_test)\n",
    "predict_time = time.perf_counter() - start  # Test süresi hesaplanıyor"
   ]
  },
  {
   "cell_type": "code",
   "execution_count": 21,
   "id": "2762086d-8e04-43f3-99c2-60585b14e400",
   "metadata": {},
   "outputs": [
    {
     "name": "stdout",
     "output_type": "stream",
     "text": [
      "Modelin eğitim süresi: 1.65303 saniye\n",
      "Modelin tahmin süresi: 0.00043 saniye\n"
     ]
    },
    {
     "data": {
      "image/png": "[encoded data removed]",
      "text/plain": [
       "<Figure size 600x400 with 2 Axes>"
      ]
     },
     "metadata": {},
     "output_type": "display_data"
    }
   ],
   "source": [
    "print(f\"Modelin eğitim süresi: {train_time:.5f} saniye\")\n",
    "print(f\"Modelin tahmin süresi: {predict_time:.5f} saniye\")\n",
    "\n",
    "import seaborn as sns\n",
    "\n",
    "cm = confusion_matrix(y_test, y_pred)\n",
    "plt.figure(figsize=(6,4))\n",
    "sns.heatmap(cm, annot=True, fmt=\"d\", cmap=\"Blues\")\n",
    "plt.xlabel(\"Predicted Label\")\n",
    "plt.ylabel(\"True Label\")\n",
    "plt.title(\"Confusion Matrix\")\n",
    "plt.show()"
   ]
  }
 ],
 "metadata": {
  "kernelspec": {
   "display_name": "Python [conda env:base] *",
   "language": "python",
   "name": "conda-base-py"
  },
  "language_info": {
   "codemirror_mode": {
    "name": "ipython",
    "version": 3
   },
   "file_extension": ".py",
   "mimetype": "text/x-python",
   "name": "python",
   "nbconvert_exporter": "python",
   "pygments_lexer": "ipython3",
   "version": "3.11.5"
  }
 },
 "nbformat": 4,
 "nbformat_minor": 5
}
