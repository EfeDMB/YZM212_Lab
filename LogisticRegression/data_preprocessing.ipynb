{
 "cells": [
  {
   "cell_type": "code",
   "execution_count": 1,
   "id": "d038be3e-6421-4006-8c3a-3e29c9e65f39",
   "metadata": {},
   "outputs": [],
   "source": [
    "import pandas as pd\n",
    "from sklearn.preprocessing import LabelEncoder"
   ]
  },
  {
   "cell_type": "code",
   "execution_count": 8,
   "id": "fb1bb91a-b432-4494-93b3-dcdc89817ad1",
   "metadata": {},
   "outputs": [
    {
     "data": {
      "text/plain": [
       "(255347, 18)"
      ]
     },
     "execution_count": 8,
     "metadata": {},
     "output_type": "execute_result"
    }
   ],
   "source": [
    "df = pd.read_csv(\"Loan_default.csv\")\n",
    "df.shape"
   ]
  },
  {
   "cell_type": "code",
   "execution_count": 3,
   "id": "cdd8b19d-e807-4258-bd6c-d4d1bfd8dc30",
   "metadata": {},
   "outputs": [
    {
     "name": "stdout",
     "output_type": "stream",
     "text": [
      "Label encoding işlemi tamamlandı ve veri kaydedildi.\n"
     ]
    }
   ],
   "source": [
    "# Gereksiz sütunları kaldırma\n",
    "df_cleaned = df.drop(columns=[\"LoanID\", \"Education\", \"EmploymentType\", \"MaritalStatus\",\"HasMortgage\",\"HasDependents\",\"LoanPurpose\",\"HasCoSigner\"])\n",
    "\n",
    "df_cleaned = df_cleaned.sample(frac=0.1,random_state=42)\n",
    "\n",
    "# Veri çerçevesini bir CSV dosyasına kaydet\n",
    "df_cleaned.to_csv(\"cleaned_data.csv\", index=False)\n",
    "\n",
    "print(\"Label encoding işlemi tamamlandı ve veri kaydedildi.\")\n"
   ]
  },
  {
   "cell_type": "code",
   "execution_count": 6,
   "id": "3fcea540-c81b-4e50-a637-a66b9fabc8fb",
   "metadata": {},
   "outputs": [
    {
     "data": {
      "text/plain": [
       "(25535, 10)"
      ]
     },
     "execution_count": 6,
     "metadata": {},
     "output_type": "execute_result"
    }
   ],
   "source": [
    "df = pd.read_csv(\"cleaned_data.csv\")\n",
    "df.shape"
   ]
  }
 ],
 "metadata": {
  "kernelspec": {
   "display_name": "Python [conda env:base] *",
   "language": "python",
   "name": "conda-base-py"
  },
  "language_info": {
   "codemirror_mode": {
    "name": "ipython",
    "version": 3
   },
   "file_extension": ".py",
   "mimetype": "text/x-python",
   "name": "python",
   "nbconvert_exporter": "python",
   "pygments_lexer": "ipython3",
   "version": "3.11.5"
  }
 },
 "nbformat": 4,
 "nbformat_minor": 5
}
