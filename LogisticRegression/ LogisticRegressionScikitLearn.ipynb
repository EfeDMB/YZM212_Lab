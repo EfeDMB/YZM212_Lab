{
 "cells": [
  {
   "cell_type": "code",
   "execution_count": 4,
   "id": "efa297f1-83c3-4951-bf34-856c256fdad6",
   "metadata": {},
   "outputs": [],
   "source": [
    "import numpy as np\n",
    "import pandas as pd\n",
    "import matplotlib.pyplot as plt\n",
    "from sklearn.model_selection import train_test_split\n",
    "from sklearn.linear_model import LogisticRegression\n",
    "from sklearn.metrics import confusion_matrix, accuracy_score, classification_report\n",
    "from sklearn.preprocessing import StandardScaler\n",
    "import time"
   ]
  },
  {
   "cell_type": "code",
   "execution_count": 5,
   "id": "73e0ed8e-c211-4a87-98b1-4e356c97dfae",
   "metadata": {},
   "outputs": [
    {
     "data": {
      "text/html": [
       "<div>\n",
       "<style scoped>\n",
       "    .dataframe tbody tr th:only-of-type {\n",
       "        vertical-align: middle;\n",
       "    }\n",
       "\n",
       "    .dataframe tbody tr th {\n",
       "        vertical-align: top;\n",
       "    }\n",
       "\n",
       "    .dataframe thead th {\n",
       "        text-align: right;\n",
       "    }\n",
       "</style>\n",
       "<table border=\"1\" class=\"dataframe\">\n",
       "  <thead>\n",
       "    <tr style=\"text-align: right;\">\n",
       "      <th></th>\n",
       "      <th>Age</th>\n",
       "      <th>Income</th>\n",
       "      <th>LoanAmount</th>\n",
       "      <th>CreditScore</th>\n",
       "      <th>MonthsEmployed</th>\n",
       "      <th>NumCreditLines</th>\n",
       "      <th>InterestRate</th>\n",
       "      <th>LoanTerm</th>\n",
       "      <th>DTIRatio</th>\n",
       "      <th>Default</th>\n",
       "    </tr>\n",
       "  </thead>\n",
       "  <tbody>\n",
       "    <tr>\n",
       "      <th>0</th>\n",
       "      <td>55</td>\n",
       "      <td>112656</td>\n",
       "      <td>92393</td>\n",
       "      <td>581</td>\n",
       "      <td>113</td>\n",
       "      <td>2</td>\n",
       "      <td>23.54</td>\n",
       "      <td>36</td>\n",
       "      <td>0.15</td>\n",
       "      <td>0</td>\n",
       "    </tr>\n",
       "    <tr>\n",
       "      <th>1</th>\n",
       "      <td>56</td>\n",
       "      <td>91569</td>\n",
       "      <td>131575</td>\n",
       "      <td>641</td>\n",
       "      <td>54</td>\n",
       "      <td>1</td>\n",
       "      <td>15.19</td>\n",
       "      <td>12</td>\n",
       "      <td>0.43</td>\n",
       "      <td>0</td>\n",
       "    </tr>\n",
       "    <tr>\n",
       "      <th>2</th>\n",
       "      <td>26</td>\n",
       "      <td>78169</td>\n",
       "      <td>75417</td>\n",
       "      <td>569</td>\n",
       "      <td>105</td>\n",
       "      <td>3</td>\n",
       "      <td>18.02</td>\n",
       "      <td>12</td>\n",
       "      <td>0.29</td>\n",
       "      <td>0</td>\n",
       "    </tr>\n",
       "    <tr>\n",
       "      <th>3</th>\n",
       "      <td>26</td>\n",
       "      <td>63033</td>\n",
       "      <td>10804</td>\n",
       "      <td>326</td>\n",
       "      <td>118</td>\n",
       "      <td>1</td>\n",
       "      <td>14.71</td>\n",
       "      <td>24</td>\n",
       "      <td>0.41</td>\n",
       "      <td>0</td>\n",
       "    </tr>\n",
       "    <tr>\n",
       "      <th>4</th>\n",
       "      <td>24</td>\n",
       "      <td>29665</td>\n",
       "      <td>21182</td>\n",
       "      <td>662</td>\n",
       "      <td>102</td>\n",
       "      <td>3</td>\n",
       "      <td>15.02</td>\n",
       "      <td>60</td>\n",
       "      <td>0.69</td>\n",
       "      <td>0</td>\n",
       "    </tr>\n",
       "  </tbody>\n",
       "</table>\n",
       "</div>"
      ],
      "text/plain": [
       "   Age  Income  LoanAmount  CreditScore  MonthsEmployed  NumCreditLines  \\\n",
       "0   55  112656       92393          581             113               2   \n",
       "1   56   91569      131575          641              54               1   \n",
       "2   26   78169       75417          569             105               3   \n",
       "3   26   63033       10804          326             118               1   \n",
       "4   24   29665       21182          662             102               3   \n",
       "\n",
       "   InterestRate  LoanTerm  DTIRatio  Default  \n",
       "0         23.54        36      0.15        0  \n",
       "1         15.19        12      0.43        0  \n",
       "2         18.02        12      0.29        0  \n",
       "3         14.71        24      0.41        0  \n",
       "4         15.02        60      0.69        0  "
      ]
     },
     "execution_count": 5,
     "metadata": {},
     "output_type": "execute_result"
    }
   ],
   "source": [
    "df = pd.read_csv(\"cleaned_data.csv\")\n",
    "df.head()"
   ]
  },
  {
   "cell_type": "code",
   "execution_count": 8,
   "id": "e8f51d09-6902-4945-a946-4d2274a561bb",
   "metadata": {},
   "outputs": [
    {
     "data": {
      "text/plain": [
       "(25535, 10)"
      ]
     },
     "execution_count": 8,
     "metadata": {},
     "output_type": "execute_result"
    }
   ],
   "source": [
    "df.shape"
   ]
  },
  {
   "cell_type": "code",
   "execution_count": 10,
   "id": "9b8a9db3-5a08-41f7-885f-6bd607c3855a",
   "metadata": {},
   "outputs": [
    {
     "name": "stdout",
     "output_type": "stream",
     "text": [
      "Series([], dtype: int64)\n"
     ]
    }
   ],
   "source": [
    "missing_values = df.isnull().sum()\n",
    "print(missing_values[missing_values > 0])"
   ]
  },
  {
   "cell_type": "code",
   "execution_count": 26,
   "id": "508ee161-886b-4273-abd0-b0d09756260d",
   "metadata": {},
   "outputs": [],
   "source": [
    "X = df.drop(columns=\"Default\")\n",
    "y = df[\"Default\"]\n",
    "\n",
    "X_train, X_test, y_train, y_test = train_test_split(X, y, test_size=0.2, random_state=17)\n",
    "\n",
    "scaler = StandardScaler()\n",
    "X_train = scaler.fit_transform(X_train)\n",
    "X_test = scaler.transform(X_test)"
   ]
  },
  {
   "cell_type": "code",
   "execution_count": 28,
   "id": "186f9b4c-c8a4-4636-9014-19a4b9c2d3dd",
   "metadata": {},
   "outputs": [],
   "source": [
    "model = LogisticRegression()\n",
    "start = time.perf_counter()  # Eğitim zamanı ölçümü başlatılıyor\n",
    "model.fit(X_train, y_train)\n",
    "train_time = time.perf_counter() - start  # Eğitim süresi hesaplanıyor"
   ]
  },
  {
   "cell_type": "code",
   "execution_count": 30,
   "id": "036d872b-de22-4beb-a0bb-7efe62cd813e",
   "metadata": {},
   "outputs": [],
   "source": [
    "start = time.perf_counter()  # Test zamanı ölçümü başlatılıyor\n",
    "y_pred = model.predict(X_test)\n",
    "predict_time = time.perf_counter() - start  # Test süresi hesaplanıyor"
   ]
  },
  {
   "cell_type": "code",
   "execution_count": 32,
   "id": "8d7c196f-0ef7-4cc3-827f-5b2f86d9d4e2",
   "metadata": {},
   "outputs": [
    {
     "name": "stdout",
     "output_type": "stream",
     "text": [
      "Modelin eğitim süresi: 0.00817 saniye\n",
      "Modelin tahmin süresi: 0.00034 saniye\n"
     ]
    }
   ],
   "source": [
    "print(f\"Modelin eğitim süresi: {train_time:.5f} saniye\")\n",
    "print(f\"Modelin tahmin süresi: {predict_time:.5f} saniye\")"
   ]
  },
  {
   "cell_type": "code",
   "execution_count": 20,
   "id": "719bcd7a-ce33-45ff-8c52-e96259dfc3ef",
   "metadata": {},
   "outputs": [
    {
     "data": {
      "image/png": "[encoded data removed]",
      "text/plain": [
       "<Figure size 600x400 with 2 Axes>"
      ]
     },
     "metadata": {},
     "output_type": "display_data"
    }
   ],
   "source": [
    "import seaborn as sns\n",
    "\n",
    "cm = confusion_matrix(y_test, y_pred)\n",
    "\n",
    "plt.figure(figsize=(6,4))\n",
    "sns.heatmap(cm, annot=True, fmt=\"d\", cmap=\"Blues\")\n",
    "plt.xlabel(\"Predicted Label\")\n",
    "plt.ylabel(\"True Label\")\n",
    "plt.title(\"Confusion Matrix\")\n",
    "plt.show()"
   ]
  }
 ],
 "metadata": {
  "kernelspec": {
   "display_name": "Python [conda env:base] *",
   "language": "python",
   "name": "conda-base-py"
  },
  "language_info": {
   "codemirror_mode": {
    "name": "ipython",
    "version": 3
   },
   "file_extension": ".py",
   "mimetype": "text/x-python",
   "name": "python",
   "nbconvert_exporter": "python",
   "pygments_lexer": "ipython3",
   "version": "3.11.5"
  }
 },
 "nbformat": 4,
 "nbformat_minor": 5
}
